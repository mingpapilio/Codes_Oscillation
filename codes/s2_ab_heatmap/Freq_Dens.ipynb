{
 "cells": [
  {
   "cell_type": "code",
   "execution_count": 1,
   "metadata": {},
   "outputs": [],
   "source": [
    "import numpy as np\n",
    "import matplotlib.pyplot as plt\n",
    "import math\n",
    "from scipy import integrate\n",
    "## Parameters and initial conditions\n",
    "r= 2.0\n",
    "h= 4.0\n",
    "K= 10.0\n",
    "dil= 10.0\n",
    "T_rd= 4.0\n",
    "N_initial= [0.2, 0.2]\n",
    "## Defining the ordinary differential equation system (ODEs)\n",
    "def derivative(N,t,r,h,K,a,b):\n",
    "  N1= N[0]\n",
    "  N2= N[1]\n",
    "  dotN1= r*N1*(1-(N1+N2)/K)\n",
    "  dotN2= (1-a+a/(1+math.exp(-3*(N1-1.5))))*(1-b+b/(1+math.exp(-10*((N1/(N1+N2))-0.5))))*h*r*N2*(1-(N1+N2)/K)\n",
    "  return np.array([dotN1, dotN2])\n",
    "## Solving the ODEs\n",
    "Num_points= 4000\n",
    "T_final= 200.\n",
    "t= np.linspace(0.,T_final,Num_points)\n",
    "itvl= int(T_final/T_rd)\n",
    "Num_points_itvl= int(Num_points/itvl)\n",
    "#\n",
    "txt_file= open(\"output.txt\", \"w\")\n",
    "txt_file.write(\"a\\tb\\tDFreq\\n\")\n",
    "v1_list= np.linspace(0., 1., num= 101)\n",
    "v2_list= np.linspace(0., 1., num= 101)\n",
    "#\n",
    "for k in range(0, v1_list.size):\n",
    "  for j in range(0, v2_list.size):\n",
    "    for i in range(int(itvl)):\n",
    "      t_sub= t[i*Num_points_itvl: (i+1)*Num_points_itvl]\n",
    "      if i==0:\n",
    "        solved= integrate.odeint(derivative, N_initial, t_sub, args= (r,h,K,v1_list[k],v2_list[j]))\n",
    "      else:\n",
    "        N1, N2= solved.T\n",
    "        N_last= [N1[-1]/ dil, N2[-1]/ dil]\n",
    "        solved_temp= integrate.odeint(derivative, N_last, t_sub, args= (r,h,K,v1_list[k],v2_list[j]))\n",
    "        solved= np.concatenate((solved, solved_temp), axis= 0)\n",
    "    N1, N2= solved.T\n",
    "    Freq= N2/(N1+N2)\n",
    "    Freq_diff= max(Freq[-81:-1])- min(Freq[-81: -1])\n",
    "    txt_file.write(\"%f\\t%f\\t%f\\n\" % (v1_list[k], v2_list[j], Freq_diff))\n",
    "#\n",
    "txt_file.close()\n"
   ]
  }
 ],
 "metadata": {
  "kernelspec": {
   "display_name": "Python 3.9.13 64-bit ('env-01')",
   "language": "python",
   "name": "python3"
  },
  "language_info": {
   "codemirror_mode": {
    "name": "ipython",
    "version": 3
   },
   "file_extension": ".py",
   "mimetype": "text/x-python",
   "name": "python",
   "nbconvert_exporter": "python",
   "pygments_lexer": "ipython3",
   "version": "3.9.15"
  },
  "orig_nbformat": 4,
  "vscode": {
   "interpreter": {
    "hash": "311473e5b9939a4a80c4c654d941aa0416c11c89ecff344aa6af32ed93bb748b"
   }
  }
 },
 "nbformat": 4,
 "nbformat_minor": 2
}
