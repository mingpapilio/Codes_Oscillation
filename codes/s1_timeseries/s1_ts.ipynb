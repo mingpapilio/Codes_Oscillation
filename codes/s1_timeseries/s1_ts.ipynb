{
 "cells": [
  {
   "cell_type": "code",
   "execution_count": 1,
   "id": "6ecb1555-9ffa-4bc9-b65a-ee763f222b1c",
   "metadata": {
    "tags": []
   },
   "outputs": [],
   "source": [
    "import numpy as np\n",
    "import math\n",
    "from scipy import integrate\n",
    "## Parameters and initial conditions\n",
    "r= 2.0\n",
    "K= 10.0\n",
    "h= 4.0\n",
    "a= 0.1\n",
    "b= 0.9\n",
    "N_initial= [0.2, 0.2]\n",
    "## Defining the ordinary differential equation system (ODEs)\n",
    "def derivative(N,t,r,h,K,a,b):\n",
    "  N1= N[0]\n",
    "  N2= N[1]\n",
    "  dotN1= r*N1*(1-(N1+N2)/K)\n",
    "  dotN2= (1-a+a/(1+math.exp(-3*(N1-1.5))))*(1-b+b/(1+math.exp(-10*((N1/(N1+N2))-0.5))))*h*r*N2*(1-(N1+N2)/K)\n",
    "  return np.array([dotN1, dotN2])\n",
    "## Solving the ODEs 1\n",
    "Num_points= 500\n",
    "T_final= 25.\n",
    "t= np.linspace(0.,T_final,Num_points)\n",
    "solved= integrate.odeint(derivative, N_initial, t, args= (r,h,K,a,b))\n",
    "N1, N2= solved.T\n",
    "data1= np.stack((t, N1, N2), axis=0)\n",
    "data1= data1.T"
   ]
  },
  {
   "cell_type": "code",
   "execution_count": 2,
   "id": "f5a6b889-d3a9-498c-9f24-a32007800da8",
   "metadata": {
    "tags": []
   },
   "outputs": [],
   "source": [
    "txt_file= open(\"poplog.txt\", \"w\")\n",
    "txt_file.write(\"Time\\tCoop\\tChea\\n\")\n",
    "for i in range(data1[:,1].size):\n",
    "    txt_file.write(\"%f\\t%f\\t%f\\n\" % (data1[i,0], data1[i,1], data1[i,2]))\n",
    "txt_file.close()"
   ]
  },
  {
   "cell_type": "code",
   "execution_count": null,
   "id": "0ca218ee-ac78-4dd4-ac0d-7073b90f03d2",
   "metadata": {},
   "outputs": [],
   "source": []
  }
 ],
 "metadata": {
  "kernelspec": {
   "display_name": "Python 3 (ipykernel)",
   "language": "python",
   "name": "python3"
  },
  "language_info": {
   "codemirror_mode": {
    "name": "ipython",
    "version": 3
   },
   "file_extension": ".py",
   "mimetype": "text/x-python",
   "name": "python",
   "nbconvert_exporter": "python",
   "pygments_lexer": "ipython3",
   "version": "3.8.10"
  }
 },
 "nbformat": 4,
 "nbformat_minor": 5
}
