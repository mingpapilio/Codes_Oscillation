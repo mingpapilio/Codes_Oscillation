{
 "cells": [
  {
   "cell_type": "code",
   "execution_count": 5,
   "id": "6b517457-2297-4f00-903f-0653a5e091f5",
   "metadata": {
    "tags": []
   },
   "outputs": [],
   "source": [
    "import numpy as np\n",
    "import matplotlib.pyplot as plt\n",
    "import math\n",
    "from scipy import integrate\n",
    "## Parameters and initial conditions\n",
    "r= 2.0\n",
    "h= 4.0\n",
    "K= 10.0\n",
    "a= 1.\n",
    "b= 0.\n",
    "dil= 10.0\n",
    "T_rd= 4.0\n",
    "N_initial= [0.2, 0.2]\n",
    "## Defining the ordinary differential equation system (ODEs)\n",
    "def derivative(N,t,r,h,K,a,b):\n",
    "  N1= N[0]\n",
    "  N2= N[1]\n",
    "  dotN1= r*N1*(1-(N1+N2)/K)\n",
    "  dotN2= (1-a+a/(1+math.exp(-3*(N1-1.5))))*(1-b+b/(1+math.exp(-10*((N1/(N1+N2))-0.5))))*h*r*N2*(1-(N1+N2)/K)\n",
    "  return np.array([dotN1, dotN2])\n",
    "## Solving the ODEs\n",
    "Num_points= 2000\n",
    "T_final= 100.\n",
    "t= np.linspace(0.,T_final,Num_points)\n",
    "itvl= int(T_final/T_rd)\n",
    "Num_points_itvl= int(Num_points/itvl)\n",
    "for i in range(int(itvl)):\n",
    "  t_sub= t[i*Num_points_itvl: (i+1)*Num_points_itvl]\n",
    "  if i==0:\n",
    "    solved= integrate.odeint(derivative, N_initial, t_sub, args= (r,K,h,a,b))\n",
    "  else:\n",
    "    N1, N2= solved.T\n",
    "    N_last= [N1[-1]/ dil, N2[-1]/ dil]\n",
    "    solved_temp= integrate.odeint(derivative, N_last, t_sub, args= (r,K,h,a,b))\n",
    "    solved= np.concatenate((solved, solved_temp), axis= 0)\n",
    "N1, N2= solved.T\n",
    "data1= np.stack((t, N1, N2), axis=0)\n",
    "data1= data1.T"
   ]
  },
  {
   "cell_type": "code",
   "execution_count": 6,
   "id": "fb568de1-bad0-4608-8964-5c2291f2b8fc",
   "metadata": {
    "tags": []
   },
   "outputs": [],
   "source": [
    "txt_file= open(\"poplog.txt\", \"w\")\n",
    "txt_file.write(\"Time\\tCoop\\tChea\\n\")\n",
    "for i in range(data1[:,1].size):\n",
    "    txt_file.write(\"%f\\t%f\\t%f\\n\" % (data1[i,0], data1[i,1], data1[i,2]))\n",
    "txt_file.close()\n"
   ]
  },
  {
   "cell_type": "code",
   "execution_count": null,
   "id": "2fa285ff-a40b-4561-9dd5-2b7b27c5f6dd",
   "metadata": {},
   "outputs": [],
   "source": []
  }
 ],
 "metadata": {
  "kernelspec": {
   "display_name": "Python 3 (ipykernel)",
   "language": "python",
   "name": "python3"
  },
  "language_info": {
   "codemirror_mode": {
    "name": "ipython",
    "version": 3
   },
   "file_extension": ".py",
   "mimetype": "text/x-python",
   "name": "python",
   "nbconvert_exporter": "python",
   "pygments_lexer": "ipython3",
   "version": "3.8.10"
  }
 },
 "nbformat": 4,
 "nbformat_minor": 5
}
